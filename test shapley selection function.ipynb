{
 "cells": [
  {
   "cell_type": "code",
   "execution_count": 1,
   "id": "0d7ce084",
   "metadata": {},
   "outputs": [
    {
     "ename": "ModuleNotFoundError",
     "evalue": "No module named 'attributes'",
     "output_type": "error",
     "traceback": [
      "\u001b[0;31m---------------------------------------------------------------------------\u001b[0m",
      "\u001b[0;31mModuleNotFoundError\u001b[0m                       Traceback (most recent call last)",
      "\u001b[1;32m/Users/cmougan/Desktop/confidentExplanations/test shapley selection function.ipynb Cell 1\u001b[0m in \u001b[0;36m<cell line: 5>\u001b[0;34m()\u001b[0m\n\u001b[1;32m      <a href='vscode-notebook-cell:/Users/cmougan/Desktop/confidentExplanations/test%20shapley%20selection%20function.ipynb#W0sZmlsZQ%3D%3D?line=2'>3</a>\u001b[0m \u001b[39mimport\u001b[39;00m \u001b[39mlightgbm\u001b[39;00m \u001b[39mas\u001b[39;00m \u001b[39mlgb\u001b[39;00m\n\u001b[1;32m      <a href='vscode-notebook-cell:/Users/cmougan/Desktop/confidentExplanations/test%20shapley%20selection%20function.ipynb#W0sZmlsZQ%3D%3D?line=3'>4</a>\u001b[0m \u001b[39mfrom\u001b[39;00m \u001b[39msklearn\u001b[39;00m\u001b[39m.\u001b[39;00m\u001b[39mmodel_selection\u001b[39;00m \u001b[39mimport\u001b[39;00m train_test_split\n\u001b[0;32m----> <a href='vscode-notebook-cell:/Users/cmougan/Desktop/confidentExplanations/test%20shapley%20selection%20function.ipynb#W0sZmlsZQ%3D%3D?line=4'>5</a>\u001b[0m \u001b[39mfrom\u001b[39;00m \u001b[39mattributes\u001b[39;00m \u001b[39mimport\u001b[39;00m \u001b[39m*\u001b[39m\n\u001b[1;32m      <a href='vscode-notebook-cell:/Users/cmougan/Desktop/confidentExplanations/test%20shapley%20selection%20function.ipynb#W0sZmlsZQ%3D%3D?line=6'>7</a>\u001b[0m \u001b[39m#here we import X features of dataset\u001b[39;00m\n\u001b[1;32m      <a href='vscode-notebook-cell:/Users/cmougan/Desktop/confidentExplanations/test%20shapley%20selection%20function.ipynb#W0sZmlsZQ%3D%3D?line=7'>8</a>\u001b[0m atts \u001b[39m=\u001b[39m atts_giveme\n",
      "\u001b[0;31mModuleNotFoundError\u001b[0m: No module named 'attributes'"
     ]
    }
   ],
   "source": [
    "import pandas as pd\n",
    "import numpy as np\n",
    "import lightgbm as lgb\n",
    "from sklearn.model_selection import train_test_split\n",
    "from attributes import *\n",
    "\n",
    "#here we import X features of dataset\n",
    "atts = atts_giveme"
   ]
  },
  {
   "cell_type": "code",
   "execution_count": 2,
   "id": "7c67754a",
   "metadata": {},
   "outputs": [],
   "source": [
    "#here we read datasets\n",
    "df = pd.read_pickle('GiveMe_train.pkl')\n",
    "df_test = pd.read_pickle('GiveMe_test.pkl')\n",
    "df_test['age'] = df_test['age'].astype(float)\n",
    "df_test = df_test.reset_index()"
   ]
  },
  {
   "cell_type": "code",
   "execution_count": 3,
   "id": "e161eac2",
   "metadata": {},
   "outputs": [
    {
     "data": {
      "text/plain": [
       "'LGBMClassifier'"
      ]
     },
     "execution_count": 3,
     "metadata": {},
     "output_type": "execute_result"
    }
   ],
   "source": [
    "lgb.LGBMClassifier(random_state=42, n_jobs=2).__class__.__name__"
   ]
  },
  {
   "cell_type": "code",
   "execution_count": 3,
   "id": "0362e943",
   "metadata": {},
   "outputs": [],
   "source": [
    "#here we split train and hold set\n",
    "df_train, df_hold = train_test_split(df, stratify=df['TARGET'], random_state=42, test_size=.1)\n",
    "df_train = df_train.reset_index()\n",
    "df_hold = df_hold.reset_index()\n"
   ]
  },
  {
   "cell_type": "code",
   "execution_count": 4,
   "id": "426d1bdb",
   "metadata": {},
   "outputs": [
    {
     "data": {
      "text/plain": [
       "LGBMClassifier(n_jobs=2, random_state=42)"
      ]
     },
     "execution_count": 4,
     "metadata": {},
     "output_type": "execute_result"
    }
   ],
   "source": [
    "#here we train the first classifier f over training set \n",
    "clf_base = lgb.LGBMClassifier(random_state=42, n_jobs=2)\n",
    "clf_base.fit(df_train[atts], df_train['TARGET'])"
   ]
  },
  {
   "cell_type": "markdown",
   "id": "9eee9078",
   "metadata": {},
   "source": [
    "here we compute scores and errors as $|y-s(X)|$, where $s(X) \\sim P(y=1|X)$ over holdout set"
   ]
  },
  {
   "cell_type": "code",
   "execution_count": 5,
   "id": "10e3ee28",
   "metadata": {},
   "outputs": [],
   "source": [
    "df_hold['scores'] = clf_base.predict_proba(df_hold[atts])[:,1]\n",
    "df_hold['err'] = np.fabs(df_hold['TARGET']-df_hold['scores'])"
   ]
  },
  {
   "cell_type": "markdown",
   "id": "392d51ef",
   "metadata": {},
   "source": [
    "here we plot errors distrbution over holdout"
   ]
  },
  {
   "cell_type": "code",
   "execution_count": 6,
   "id": "16e966a6",
   "metadata": {},
   "outputs": [
    {
     "data": {
      "text/plain": [
       "(array([9084.,  814.,  301.,  216.,  141.,  128.,  109.,   93.,  121.,\n",
       "         243.]),\n",
       " array([0.00143706, 0.10107543, 0.2007138 , 0.30035218, 0.39999055,\n",
       "        0.49962892, 0.5992673 , 0.69890567, 0.79854404, 0.89818242,\n",
       "        0.99782079]),\n",
       " <BarContainer object of 10 artists>)"
      ]
     },
     "execution_count": 6,
     "metadata": {},
     "output_type": "execute_result"
    },
    {
     "data": {
      "image/png": "[encoded data removed]",
      "text/plain": [
       "<Figure size 432x288 with 1 Axes>"
      ]
     },
     "metadata": {
      "needs_background": "light"
     },
     "output_type": "display_data"
    }
   ],
   "source": [
    "import matplotlib.pyplot as plt\n",
    "plt.hist(df_hold['err'])"
   ]
  },
  {
   "cell_type": "markdown",
   "id": "5df02e15",
   "metadata": {},
   "source": [
    "here we compute shapley values $\\phi(X_{hold})$ over holdout set\n",
    "\n",
    ">If you want to get more explanations for your model’s predictions using SHAP values, like SHAP interaction values, you can install the shap package (https://github.com/slundberg/shap). Note that unlike the shap package, with pred_contrib we return a matrix with an extra column, where the last column is the expected value."
   ]
  },
  {
   "cell_type": "code",
   "execution_count": 7,
   "id": "bffbf34a",
   "metadata": {},
   "outputs": [],
   "source": [
    "cols = ['shap_{}'.format(col) for col in df_hold[atts].columns]\n",
    "shaps = pd.DataFrame(clf_base.predict(df_hold[atts], pred_contrib=True)[:,:-1], columns = cols)\n",
    "shaps['err'] = df_hold['err'].copy()"
   ]
  },
  {
   "cell_type": "markdown",
   "id": "286bb78c",
   "metadata": {},
   "source": [
    "here we define our low-high error for acceptance (if error below a certain threshold depending on target coverage we accept the instance, otherwise reject)"
   ]
  },
  {
   "cell_type": "code",
   "execution_count": 8,
   "id": "d5819e0a",
   "metadata": {},
   "outputs": [],
   "source": [
    "quantile = .8\n",
    "theta = np.quantile(shaps['err'], quantile)\n",
    "shaps['ACCEPTED'] = np.where(shaps['err']<theta, 1, 0)\n"
   ]
  },
  {
   "cell_type": "markdown",
   "id": "c0727dee",
   "metadata": {},
   "source": [
    "here we build a selector $g:\\phi(X) \\to \\{0,1\\}$, which learns when to reject from explanation space;\n"
   ]
  },
  {
   "cell_type": "code",
   "execution_count": 9,
   "id": "6b2a2c45",
   "metadata": {},
   "outputs": [
    {
     "data": {
      "text/plain": [
       "LGBMClassifier(random_state=42)"
      ]
     },
     "execution_count": 9,
     "metadata": {},
     "output_type": "execute_result"
    }
   ],
   "source": [
    "g = lgb.LGBMClassifier(random_state=42)\n",
    "g.fit(shaps[cols], shaps['ACCEPTED'])"
   ]
  },
  {
   "cell_type": "markdown",
   "id": "4dee8158",
   "metadata": {},
   "source": [
    "here we test over a test set whether selected instances according to the selector g increase performances"
   ]
  },
  {
   "cell_type": "code",
   "execution_count": 10,
   "id": "a1eaffde",
   "metadata": {},
   "outputs": [],
   "source": [
    "shaps_test = pd.DataFrame(clf_base.predict(df_test[atts], pred_contrib=True)[:,:-1], columns = cols)\n",
    "scores = clf_base.predict_proba(df_test[atts])[:, 1]\n",
    "# shaps_test['err'] = np.fabs(df_test['TARGET']-scores)\n",
    "# shaps_test['ACCEPTED'] = np.where(shaps_test['err']<theta, 1, 0)"
   ]
  },
  {
   "cell_type": "code",
   "execution_count": 11,
   "id": "3cd685d7",
   "metadata": {},
   "outputs": [
    {
     "name": "stdout",
     "output_type": "stream",
     "text": [
      "roc auc score full sample\n",
      "0.8660279853698326\n",
      "roc auc score selected\n",
      "0.7539643775004781\n",
      "accuracy full sample\n",
      "0.93696\n",
      "accuracy selected\n",
      "0.9750990195441854\n",
      "coverage selected\n",
      "0.8213866666666667\n"
     ]
    }
   ],
   "source": [
    "from sklearn.metrics import roc_auc_score, accuracy_score\n",
    "\n",
    "preds = clf_base.predict(df_test[atts])\n",
    "selected = g.predict(shaps_test[cols]).astype(bool)\n",
    "print(\"roc auc score full sample\")\n",
    "print(roc_auc_score(df_test['TARGET'], scores))\n",
    "print(\"roc auc score selected\")\n",
    "print(roc_auc_score(df_test[selected]['TARGET'], scores[selected]))\n",
    "print(\"accuracy full sample\")\n",
    "print(accuracy_score(df_test['TARGET'], preds))\n",
    "print(\"accuracy selected\")\n",
    "print(accuracy_score(df_test[selected]['TARGET'], preds[selected]))\n",
    "print(\"coverage selected\")\n",
    "print(selected.sum()/len(selected))\n",
    "# roc_auc_score(shaps_test['ACCEPTED'], g.predict_proba(shaps_test[cols])[:,1])"
   ]
  },
  {
   "cell_type": "markdown",
   "id": "94f100c5",
   "metadata": {},
   "source": [
    "Testing over multiple coverages"
   ]
  },
  {
   "cell_type": "code",
   "execution_count": 12,
   "id": "fda0ce1d",
   "metadata": {},
   "outputs": [],
   "source": [
    "def test(shaps_train, shaps_test, df_test, atts, clf_base,  list_coverages):\n",
    "    for quantile in list_coverages:\n",
    "        theta = np.quantile(shaps['err'], quantile)\n",
    "        print(\"target coverage is {}\\n\\n\\n\".format(quantile))\n",
    "        shaps_train['ACCEPTED'] = np.where(shaps_train['err']<theta, 1, 0)\n",
    "#         if (abs(1-quantile)<=.1):\n",
    "#             g = lgb.LGBMClassifier(random_state=42, is_unbalance=True)\n",
    "#         else:\n",
    "        g = lgb.LGBMClassifier(random_state=42)\n",
    "        g.fit(shaps[cols], shaps['ACCEPTED'])\n",
    "        shaps_test = pd.DataFrame(clf_base.predict(df_test[atts], pred_contrib=True)[:,:-1], columns = cols)\n",
    "        scores = clf_base.predict_proba(df_test[atts])[:, 1]\n",
    "        preds = clf_base.predict(df_test[atts])\n",
    "        selected = g.predict(shaps_test[cols]).astype(bool)\n",
    "        print(\"roc auc score full sample\")\n",
    "        print(roc_auc_score(df_test['TARGET'], scores))\n",
    "        print(\"roc auc score selected\")\n",
    "        print(roc_auc_score(df_test[selected]['TARGET'], scores[selected]))\n",
    "        print(\"accuracy full sample\")\n",
    "        print(accuracy_score(df_test['TARGET'], preds))\n",
    "        print(\"accuracy selected\")\n",
    "        print(accuracy_score(df_test[selected]['TARGET'], preds[selected]))\n",
    "        print(\"coverage selected\")\n",
    "        print(selected.sum()/len(selected))\n",
    "        print(\"\\n\")"
   ]
  },
  {
   "cell_type": "code",
   "execution_count": 13,
   "id": "a811d572",
   "metadata": {},
   "outputs": [
    {
     "name": "stdout",
     "output_type": "stream",
     "text": [
      "target coverage is 0.99\n",
      "\n",
      "\n",
      "\n",
      "roc auc score full sample\n",
      "0.8660279853698326\n",
      "roc auc score selected\n",
      "0.8660313774880833\n",
      "accuracy full sample\n",
      "0.93696\n",
      "accuracy selected\n",
      "0.9369448667680244\n",
      "coverage selected\n",
      "0.99976\n",
      "\n",
      "\n",
      "target coverage is 0.95\n",
      "\n",
      "\n",
      "\n",
      "roc auc score full sample\n",
      "0.8660279853698326\n",
      "roc auc score selected\n",
      "0.8655420869678144\n",
      "accuracy full sample\n",
      "0.93696\n",
      "accuracy selected\n",
      "0.9378446383639382\n",
      "coverage selected\n",
      "0.9962133333333333\n",
      "\n",
      "\n",
      "target coverage is 0.9\n",
      "\n",
      "\n",
      "\n",
      "roc auc score full sample\n",
      "0.8660279853698326\n",
      "roc auc score selected\n",
      "0.8043184495080592\n",
      "accuracy full sample\n",
      "0.93696\n",
      "accuracy selected\n",
      "0.9604545715433622\n",
      "coverage selected\n",
      "0.9292266666666666\n",
      "\n",
      "\n",
      "target coverage is 0.85\n",
      "\n",
      "\n",
      "\n",
      "roc auc score full sample\n",
      "0.8660279853698326\n",
      "roc auc score selected\n",
      "0.7645723660371213\n",
      "accuracy full sample\n",
      "0.93696\n",
      "accuracy selected\n",
      "0.9705730354157167\n",
      "coverage selected\n",
      "0.8772\n",
      "\n",
      "\n",
      "target coverage is 0.8\n",
      "\n",
      "\n",
      "\n",
      "roc auc score full sample\n",
      "0.8660279853698326\n",
      "roc auc score selected\n",
      "0.7539643775004781\n",
      "accuracy full sample\n",
      "0.93696\n",
      "accuracy selected\n",
      "0.9750990195441854\n",
      "coverage selected\n",
      "0.8213866666666667\n",
      "\n",
      "\n",
      "target coverage is 0.75\n",
      "\n",
      "\n",
      "\n",
      "roc auc score full sample\n",
      "0.8660279853698326\n",
      "roc auc score selected\n",
      "0.7332481646655231\n",
      "accuracy full sample\n",
      "0.93696\n",
      "accuracy selected\n",
      "0.9796920718963356\n",
      "coverage selected\n",
      "0.7655466666666667\n",
      "\n",
      "\n"
     ]
    }
   ],
   "source": [
    "list_coverages = [ .99, .95, .9, .85, .8, .75]\n",
    "test(shaps, shaps_test, df_test, atts, clf_base,  list_coverages)"
   ]
  }
 ],
 "metadata": {
  "kernelspec": {
   "display_name": "Python 3.9.12 ('explanationShift')",
   "language": "python",
   "name": "python3"
  },
  "language_info": {
   "codemirror_mode": {
    "name": "ipython",
    "version": 3
   },
   "file_extension": ".py",
   "mimetype": "text/x-python",
   "name": "python",
   "nbconvert_exporter": "python",
   "pygments_lexer": "ipython3",
   "version": "3.9.12"
  },
  "vscode": {
   "interpreter": {
    "hash": "97fe26bcbf28fc453b2946b997c23025578b6596c26e056eb0f37c1d31a215af"
   }
  }
 },
 "nbformat": 4,
 "nbformat_minor": 5
}
